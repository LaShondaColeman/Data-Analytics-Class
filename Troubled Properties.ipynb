{
 "cells": [
  {
   "cell_type": "markdown",
   "metadata": {},
   "source": [
    "TROBULED PROPERTIES ANALYSIS"
   ]
  },
  {
   "cell_type": "code",
   "execution_count": 25,
   "metadata": {},
   "outputs": [],
   "source": [
    "import pandas as pd"
   ]
  },
  {
   "cell_type": "code",
   "execution_count": 26,
   "metadata": {},
   "outputs": [
    {
     "data": {
      "text/html": [
       "<div>\n",
       "<style scoped>\n",
       "    .dataframe tbody tr th:only-of-type {\n",
       "        vertical-align: middle;\n",
       "    }\n",
       "\n",
       "    .dataframe tbody tr th {\n",
       "        vertical-align: top;\n",
       "    }\n",
       "\n",
       "    .dataframe thead th {\n",
       "        text-align: right;\n",
       "    }\n",
       "</style>\n",
       "<table border=\"1\" class=\"dataframe\">\n",
       "  <thead>\n",
       "    <tr style=\"text-align: right;\">\n",
       "      <th></th>\n",
       "      <th>License Number</th>\n",
       "      <th>Community Name</th>\n",
       "      <th>Street Address</th>\n",
       "      <th>City</th>\n",
       "      <th>Zip Code</th>\n",
       "      <th>Case Number</th>\n",
       "      <th>Longitude</th>\n",
       "      <th>Latitude</th>\n",
       "      <th>First Inspection Date</th>\n",
       "      <th>Tentative Next Inspection</th>\n",
       "      <th>Inspection Frequency</th>\n",
       "      <th>Compliant</th>\n",
       "      <th>Unit Count</th>\n",
       "      <th>Units Inspected</th>\n",
       "      <th>Average Violations Per Unit</th>\n",
       "      <th>Severity Index</th>\n",
       "      <th>No Violations Observed</th>\n",
       "      <th>Infested Units Percentage</th>\n",
       "      <th>Analysis Rating</th>\n",
       "      <th>Location</th>\n",
       "    </tr>\n",
       "  </thead>\n",
       "  <tbody>\n",
       "    <tr>\n",
       "      <th>0</th>\n",
       "      <td>109956</td>\n",
       "      <td>Thayer &amp; Spring Apartments</td>\n",
       "      <td>915 SILVER SPRING AVE</td>\n",
       "      <td>SILVER SPRING</td>\n",
       "      <td>20910</td>\n",
       "      <td>NaN</td>\n",
       "      <td>0.000000</td>\n",
       "      <td>0.000000</td>\n",
       "      <td>NaN</td>\n",
       "      <td>NaN</td>\n",
       "      <td>NaN</td>\n",
       "      <td>0</td>\n",
       "      <td>399</td>\n",
       "      <td>NaN</td>\n",
       "      <td>NaN</td>\n",
       "      <td>NaN</td>\n",
       "      <td>NaN</td>\n",
       "      <td>NaN</td>\n",
       "      <td>TBD</td>\n",
       "      <td>(0.0, 0.0)</td>\n",
       "    </tr>\n",
       "    <tr>\n",
       "      <th>1</th>\n",
       "      <td>21574</td>\n",
       "      <td>Eaves Washingtonian Center</td>\n",
       "      <td>0000 Marathon Cir.</td>\n",
       "      <td>Gaithersburg</td>\n",
       "      <td>20878</td>\n",
       "      <td>149256.0</td>\n",
       "      <td>0.000000</td>\n",
       "      <td>0.000000</td>\n",
       "      <td>10/10/2018</td>\n",
       "      <td>07/02/2021</td>\n",
       "      <td>3.0</td>\n",
       "      <td>1</td>\n",
       "      <td>287</td>\n",
       "      <td>72.0</td>\n",
       "      <td>0.72</td>\n",
       "      <td>2.15</td>\n",
       "      <td>39.0</td>\n",
       "      <td>0.00</td>\n",
       "      <td>at-risk</td>\n",
       "      <td>(0.0, 0.0)</td>\n",
       "    </tr>\n",
       "    <tr>\n",
       "      <th>2</th>\n",
       "      <td>17693</td>\n",
       "      <td>Greenwood Avenue, 7815</td>\n",
       "      <td>7815 Greenwood Ave</td>\n",
       "      <td>Takoma Park</td>\n",
       "      <td>20912</td>\n",
       "      <td>138941.0</td>\n",
       "      <td>-76.999381</td>\n",
       "      <td>38.988120</td>\n",
       "      <td>03/09/2017</td>\n",
       "      <td>07/01/2019</td>\n",
       "      <td>1.0</td>\n",
       "      <td>0</td>\n",
       "      <td>6</td>\n",
       "      <td>6.0</td>\n",
       "      <td>2.66</td>\n",
       "      <td>2.31</td>\n",
       "      <td>1.0</td>\n",
       "      <td>0.00</td>\n",
       "      <td>troubled</td>\n",
       "      <td>(38.9881, -76.9994)</td>\n",
       "    </tr>\n",
       "    <tr>\n",
       "      <th>3</th>\n",
       "      <td>17555</td>\n",
       "      <td>Stonecreek Club Apartments</td>\n",
       "      <td>12840 Locbury Cir</td>\n",
       "      <td>Germantown</td>\n",
       "      <td>20874</td>\n",
       "      <td>152165.0</td>\n",
       "      <td>-77.264890</td>\n",
       "      <td>39.186186</td>\n",
       "      <td>05/11/2019</td>\n",
       "      <td>10/29/2021</td>\n",
       "      <td>3.0</td>\n",
       "      <td>1</td>\n",
       "      <td>240</td>\n",
       "      <td>59.0</td>\n",
       "      <td>1.49</td>\n",
       "      <td>3.42</td>\n",
       "      <td>16.0</td>\n",
       "      <td>0.05</td>\n",
       "      <td>at-risk</td>\n",
       "      <td>(39.1862, -77.2649)</td>\n",
       "    </tr>\n",
       "    <tr>\n",
       "      <th>4</th>\n",
       "      <td>108315</td>\n",
       "      <td>Quest Arcadian</td>\n",
       "      <td>13615 COLGATE WAY</td>\n",
       "      <td>SILVER SPRING</td>\n",
       "      <td>20904</td>\n",
       "      <td>146174.0</td>\n",
       "      <td>0.000000</td>\n",
       "      <td>0.000000</td>\n",
       "      <td>04/06/2018</td>\n",
       "      <td>08/01/2019</td>\n",
       "      <td>1.0</td>\n",
       "      <td>1</td>\n",
       "      <td>432</td>\n",
       "      <td>103.0</td>\n",
       "      <td>1.76</td>\n",
       "      <td>2.38</td>\n",
       "      <td>15.0</td>\n",
       "      <td>0.00</td>\n",
       "      <td>troubled</td>\n",
       "      <td>(0.0, 0.0)</td>\n",
       "    </tr>\n",
       "  </tbody>\n",
       "</table>\n",
       "</div>"
      ],
      "text/plain": [
       "   License Number              Community Name         Street Address  \\\n",
       "0          109956  Thayer & Spring Apartments  915 SILVER SPRING AVE   \n",
       "1           21574  Eaves Washingtonian Center     0000 Marathon Cir.   \n",
       "2           17693      Greenwood Avenue, 7815     7815 Greenwood Ave   \n",
       "3           17555  Stonecreek Club Apartments      12840 Locbury Cir   \n",
       "4          108315              Quest Arcadian      13615 COLGATE WAY   \n",
       "\n",
       "            City Zip Code  Case Number  Longitude   Latitude  \\\n",
       "0  SILVER SPRING    20910          NaN   0.000000   0.000000   \n",
       "1   Gaithersburg    20878     149256.0   0.000000   0.000000   \n",
       "2    Takoma Park    20912     138941.0 -76.999381  38.988120   \n",
       "3     Germantown    20874     152165.0 -77.264890  39.186186   \n",
       "4  SILVER SPRING    20904     146174.0   0.000000   0.000000   \n",
       "\n",
       "  First Inspection Date Tentative Next Inspection  Inspection Frequency  \\\n",
       "0                   NaN                       NaN                   NaN   \n",
       "1            10/10/2018                07/02/2021                   3.0   \n",
       "2            03/09/2017                07/01/2019                   1.0   \n",
       "3            05/11/2019                10/29/2021                   3.0   \n",
       "4            04/06/2018                08/01/2019                   1.0   \n",
       "\n",
       "   Compliant  Unit Count  Units Inspected  Average Violations Per Unit  \\\n",
       "0          0         399              NaN                          NaN   \n",
       "1          1         287             72.0                         0.72   \n",
       "2          0           6              6.0                         2.66   \n",
       "3          1         240             59.0                         1.49   \n",
       "4          1         432            103.0                         1.76   \n",
       "\n",
       "   Severity Index  No Violations Observed  Infested Units Percentage  \\\n",
       "0             NaN                     NaN                        NaN   \n",
       "1            2.15                    39.0                       0.00   \n",
       "2            2.31                     1.0                       0.00   \n",
       "3            3.42                    16.0                       0.05   \n",
       "4            2.38                    15.0                       0.00   \n",
       "\n",
       "  Analysis Rating             Location  \n",
       "0             TBD           (0.0, 0.0)  \n",
       "1         at-risk           (0.0, 0.0)  \n",
       "2        troubled  (38.9881, -76.9994)  \n",
       "3         at-risk  (39.1862, -77.2649)  \n",
       "4        troubled           (0.0, 0.0)  "
      ]
     },
     "execution_count": 26,
     "metadata": {},
     "output_type": "execute_result"
    }
   ],
   "source": [
    "location = \"Troubled_Properties_Analysis.csv\"\n",
    "troubled_df = pd.read_csv (location)\n",
    "troubled_df.head()"
   ]
  },
  {
   "cell_type": "code",
   "execution_count": 27,
   "metadata": {},
   "outputs": [
    {
     "data": {
      "text/plain": [
       "Index(['License Number', 'Community Name', ' Street Address', 'City',\n",
       "       'Zip Code', 'Case Number', 'Longitude', 'Latitude',\n",
       "       'First Inspection Date', 'Tentative Next Inspection',\n",
       "       'Inspection Frequency', 'Compliant', 'Unit Count', 'Units Inspected',\n",
       "       'Average Violations Per Unit', 'Severity Index',\n",
       "       'No Violations Observed', 'Infested Units Percentage',\n",
       "       'Analysis Rating', 'Location'],\n",
       "      dtype='object')"
      ]
     },
     "execution_count": 27,
     "metadata": {},
     "output_type": "execute_result"
    }
   ],
   "source": [
    "troubled_df.columns"
   ]
  },
  {
   "cell_type": "code",
   "execution_count": 30,
   "metadata": {},
   "outputs": [
    {
     "ename": "TypeError",
     "evalue": "drop() got multiple values for argument 'axis'",
     "output_type": "error",
     "traceback": [
      "\u001b[1;31m---------------------------------------------------------------------------\u001b[0m",
      "\u001b[1;31mTypeError\u001b[0m                                 Traceback (most recent call last)",
      "\u001b[1;32m<ipython-input-30-c9b9f946185d>\u001b[0m in \u001b[0;36m<module>\u001b[1;34m\u001b[0m\n\u001b[1;32m----> 1\u001b[1;33m \u001b[0mtroubled_df\u001b[0m\u001b[1;33m.\u001b[0m\u001b[0mdrop\u001b[0m\u001b[1;33m(\u001b[0m\u001b[1;34m'License Number'\u001b[0m\u001b[1;33m,\u001b[0m\u001b[1;34m'Street Address'\u001b[0m\u001b[1;33m,\u001b[0m \u001b[1;34m'City'\u001b[0m\u001b[1;33m,\u001b[0m \u001b[1;34m'Case Number'\u001b[0m\u001b[1;33m,\u001b[0m\u001b[1;34m'Longitude'\u001b[0m\u001b[1;33m,\u001b[0m\u001b[1;34m'Latitude'\u001b[0m\u001b[1;33m,\u001b[0m\u001b[1;34m'First Inspection Date'\u001b[0m\u001b[1;33m,\u001b[0m \u001b[1;34m'Tentative Next Inspection'\u001b[0m\u001b[1;33m,\u001b[0m \u001b[1;34m'Inspection Frequency'\u001b[0m\u001b[1;33m,\u001b[0m \u001b[1;34m'Unit Count'\u001b[0m\u001b[1;33m,\u001b[0m \u001b[1;34m'Units Inspected'\u001b[0m\u001b[1;33m,\u001b[0m \u001b[1;34m'Average Vilations Per Unit'\u001b[0m\u001b[1;33m,\u001b[0m \u001b[1;34m'Severity Index'\u001b[0m\u001b[1;33m,\u001b[0m \u001b[1;34m'No Violations Observed'\u001b[0m\u001b[1;33m,\u001b[0m \u001b[1;34m'Analysis Rating'\u001b[0m \u001b[1;33m,\u001b[0m \u001b[1;34m'Location'\u001b[0m\u001b[1;33m,\u001b[0m \u001b[0maxis\u001b[0m\u001b[1;33m=\u001b[0m\u001b[1;36m1\u001b[0m \u001b[1;33m)\u001b[0m\u001b[1;33m\u001b[0m\u001b[1;33m\u001b[0m\u001b[0m\n\u001b[0m",
      "\u001b[1;31mTypeError\u001b[0m: drop() got multiple values for argument 'axis'"
     ]
    }
   ],
   "source": [
    "troubled_df.drop('License Number','Street Address', 'City', 'Case Number','Longitude','Latitude','First Inspection Date', 'Tentative Next Inspection', 'Inspection Frequency', 'Unit Count', 'Units Inspected', 'Average Vilations Per Unit', 'Severity Index', 'No Violations Observed', 'Analysis Rating' , 'Location', axis=1)"
   ]
  },
  {
   "cell_type": "code",
   "execution_count": 17,
   "metadata": {},
   "outputs": [
    {
     "ename": "NameError",
     "evalue": "name 'df' is not defined",
     "output_type": "error",
     "traceback": [
      "\u001b[1;31m---------------------------------------------------------------------------\u001b[0m",
      "\u001b[1;31mNameError\u001b[0m                                 Traceback (most recent call last)",
      "\u001b[1;32m<ipython-input-17-6e8fa073fe9b>\u001b[0m in \u001b[0;36m<module>\u001b[1;34m\u001b[0m\n\u001b[1;32m----> 1\u001b[1;33m \u001b[0mdf\u001b[0m\u001b[1;33m.\u001b[0m\u001b[0mdrop\u001b[0m\u001b[1;33m(\u001b[0m\u001b[1;33m[\u001b[0m\u001b[1;34m'License Number'\u001b[0m\u001b[1;33m,\u001b[0m \u001b[1;34m'Street Address'\u001b[0m\u001b[1;33m,\u001b[0m \u001b[1;34m'City'\u001b[0m\u001b[1;33m,\u001b[0m \u001b[1;34m'Case Number'\u001b[0m\u001b[1;33m,\u001b[0m \u001b[1;34m'Longitude'\u001b[0m\u001b[1;33m,\u001b[0m \u001b[1;34m'Latitude'\u001b[0m\u001b[1;33m,\u001b[0m \u001b[1;34m'First Inspection Date'\u001b[0m\u001b[1;33m,\u001b[0m \u001b[1;34m'Tentative Next Inspection'\u001b[0m\u001b[1;33m,\u001b[0m \u001b[1;34m'Inspection Frequency'\u001b[0m\u001b[1;33m,\u001b[0m\u001b[1;34m'Unit Count'\u001b[0m\u001b[1;33m,\u001b[0m \u001b[1;34m'Units Inspected'\u001b[0m\u001b[1;33m,\u001b[0m \u001b[1;34m'Average Violations per Unit'\u001b[0m\u001b[1;33m,\u001b[0m \u001b[1;34m'Severity Index'\u001b[0m\u001b[1;33m,\u001b[0m \u001b[1;34m'No Violations Observed'\u001b[0m\u001b[1;33m,\u001b[0m \u001b[1;34m'Analysis Rating'\u001b[0m\u001b[1;33m,\u001b[0m \u001b[1;34m'Location'\u001b[0m\u001b[1;33m]\u001b[0m\u001b[1;33m,\u001b[0m \u001b[0maxis\u001b[0m\u001b[1;33m=\u001b[0m\u001b[1;36m1\u001b[0m\u001b[1;33m)\u001b[0m\u001b[1;33m\u001b[0m\u001b[1;33m\u001b[0m\u001b[0m\n\u001b[0m",
      "\u001b[1;31mNameError\u001b[0m: name 'df' is not defined"
     ]
    }
   ],
   "source": [
    "df.drop(['License Number', 'Street Address', 'City', 'Case Number', 'Longitude', 'Latitude', 'First Inspection Date', 'Tentative Next Inspection', 'Inspection Frequency','Unit Count', 'Units Inspected', 'Average Violations per Unit', 'Severity Index', 'No Violations Observed', 'Analysis Rating', 'Location'], axis=1)"
   ]
  },
  {
   "cell_type": "code",
   "execution_count": null,
   "metadata": {},
   "outputs": [],
   "source": []
  }
 ],
 "metadata": {
  "kernelspec": {
   "display_name": "Python 3",
   "language": "python",
   "name": "python3"
  },
  "language_info": {
   "codemirror_mode": {
    "name": "ipython",
    "version": 3
   },
   "file_extension": ".py",
   "mimetype": "text/x-python",
   "name": "python",
   "nbconvert_exporter": "python",
   "pygments_lexer": "ipython3",
   "version": "3.7.3"
  }
 },
 "nbformat": 4,
 "nbformat_minor": 2
}
